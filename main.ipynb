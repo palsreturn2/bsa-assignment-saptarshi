{
 "cells": [
  {
   "cell_type": "code",
   "execution_count": 2,
   "id": "71490f3d",
   "metadata": {},
   "outputs": [],
   "source": [
    "import os\n",
    "import warnings\n",
    "warnings.filterwarnings('ignore')\n",
    "WORKDIR = os.getcwd()"
   ]
  },
  {
   "cell_type": "code",
   "execution_count": 3,
   "id": "5ef0a4ba",
   "metadata": {
    "scrolled": true
   },
   "outputs": [
    {
     "name": "stdout",
     "output_type": "stream",
     "text": [
      "0      Mandir Marg, Delhi - DPCC\n",
      "1    Chandni Chowk, Delhi - IITM\n",
      "2        Loni, Ghaziabad - UPPCB\n",
      "Name: name, dtype: object\n",
      "Lockdown Date:  2021-04-19 00:00:00\n",
      "Locations Mean AQI\n",
      "Mandir Marg, Delhi - DPCC=164.85\n",
      "Chandni Chowk, Delhi - IITM=216.57142857142858\n",
      "Loni, Ghaziabad - UPPCB=269.0\n",
      "\n",
      "Mean AQI after full lockdown period started\n",
      "Mandir Marg, Delhi - DPCC=183.1\n",
      "Chandni Chowk, Delhi - IITM=172.0\n",
      "Loni, Ghaziabad - UPPCB=271.9166666666667\n",
      "\n",
      "Mean AQI before full lockdown period started\n",
      "Mandir Marg, Delhi - DPCC=146.6\n",
      "Chandni Chowk, Delhi - IITM=250.0\n",
      "Loni, Ghaziabad - UPPCB=266.8125\n"
     ]
    }
   ],
   "source": [
    "# Reading air quality sensor data obtained from CPCB platform.\n",
    "\n",
    "from datetime import datetime\n",
    "import pandas as pd\n",
    "\n",
    "# Air quality sensor locations of the three ground stations\n",
    "\n",
    "import geopandas as gpd\n",
    "gdf = gpd.read_file(WORKDIR+'/datasets/aq_stations.geojson')\n",
    "\n",
    "locations = gdf['name']\n",
    "print(locations)\n",
    "\n",
    "#Lockdown Start date 19th April\n",
    "\n",
    "lockdown_date = datetime.strptime('19-04-2021', '%d-%m-%Y')\n",
    "print('Lockdown Date: ',lockdown_date)\n",
    "\n",
    "aq_sensor_data = pd.read_excel(WORKDIR+'/datasets/aqi_sensor_data.xlsx', header=0)  \n",
    "aq_sensor_data['datetime'] = pd.to_datetime(aq_sensor_data['datetime'], format='%A, %d %b %Y %I:%M %p')\n",
    "print('Locations Mean AQI')\n",
    "for i in range(0, len(locations)):\n",
    "    print(locations[i]+\"=\"+str(aq_sensor_data[aq_sensor_data['name']==locations[i]]['aqi'].mean()))\n",
    "print('\\nMean AQI after full lockdown period started')\n",
    "for i in range(0, len(locations)):\n",
    "    print(locations[i]+\"=\"+str(aq_sensor_data[(aq_sensor_data['name']==locations[i]) \n",
    "                                              & (aq_sensor_data['datetime']>=lockdown_date)]['aqi'].mean()))\n",
    "\n",
    "print('\\nMean AQI before full lockdown period started')\n",
    "for i in range(0, len(locations)):\n",
    "    print(locations[i]+\"=\"+str(aq_sensor_data[(aq_sensor_data['name']==locations[i]) \n",
    "                                              & (aq_sensor_data['datetime']<lockdown_date)]['aqi'].mean()))"
   ]
  },
  {
   "cell_type": "code",
   "execution_count": 4,
   "id": "11241e95",
   "metadata": {},
   "outputs": [],
   "source": [
    "# Observations from the data\n",
    "\n",
    "# Delhi lockdown dates in 2021 from April 19 onwards\n",
    "# https://www.thehindu.com/news/cities/Delhi/delhi-lockdown-extended-till-may-31/article34625962.ece\n",
    "\n",
    "# The above collected data is for the month of April 2021 for three stations.\n",
    "\n",
    "# The highest mean AQI is for the location of Loni, Ghaziabad region.\n",
    "# The mean AQI of Mandir Marg and Loni is lower before the lockdown starts.\n",
    "# The mean AQI of Chandni Chowk decreases significantly during the lockdown period."
   ]
  },
  {
   "cell_type": "code",
   "execution_count": 5,
   "id": "671466d3",
   "metadata": {},
   "outputs": [],
   "source": [
    "# Region of interest: Buffer of 0.02 degrees is taken around the ground sensors.\n",
    "# Assumption: Near things affect more than distant things.\n",
    "\n",
    "gdf['geometry'] = gdf['geometry']\n",
    "gdf['geometry'] = gdf['geometry'].buffer(0.02)"
   ]
  },
  {
   "cell_type": "code",
   "execution_count": 6,
   "id": "6cdbb8b6",
   "metadata": {},
   "outputs": [],
   "source": [
    "# Mobility can be one of the factors for increase in the AQI levels.\n",
    "# So one of the parameters can be density of railways and roadways.\n",
    "# Fetching Highways and Railways Data\n",
    "\n",
    "hr_gpd = gpd.read_file(WORKDIR+'/datasets/highways_railways.geojson')"
   ]
  },
  {
   "cell_type": "code",
   "execution_count": 7,
   "id": "c8feca98",
   "metadata": {},
   "outputs": [
    {
     "name": "stdout",
     "output_type": "stream",
     "text": [
      "Road Density Values\n",
      "Mandir Marg, Delhi - DPCC=2.483152797382156\n",
      "Road Density Values\n",
      "Chandni Chowk, Delhi - IITM=2.266370100077988\n",
      "Road Density Values\n",
      "Loni, Ghaziabad - UPPCB=0.07730455236204287\n"
     ]
    }
   ],
   "source": [
    "#Computing highway and railway line density\n",
    "for i in range(0, len(locations)):\n",
    "    a1 = gdf.iloc[i]    \n",
    "    road_density = hr_gpd['geometry'].intersection(a1['geometry']).length\n",
    "    print('Road Density Values')\n",
    "    print(a1['name']+'='+str(road_density.sum()))\n"
   ]
  },
  {
   "cell_type": "code",
   "execution_count": 8,
   "id": "b453f917",
   "metadata": {},
   "outputs": [],
   "source": [
    "# Observations from the Road Density Values\n",
    "\n",
    "# Mandir Marg has the maximum highway and railway density in the region.\n",
    "# Loni, Ghaziabad has the least highway and railway density in the region."
   ]
  },
  {
   "cell_type": "code",
   "execution_count": 9,
   "id": "d87670e9",
   "metadata": {},
   "outputs": [],
   "source": [
    "# Forest cover is another important indicator for AQI levels.\n",
    "# Loading Forest Layer\n",
    "\n",
    "for_gpd = gpd.read_file(WORKDIR+'/datasets/forests.geojson')\n",
    "for_gpd['geometry'] = for_gpd['geometry'].buffer(0)"
   ]
  },
  {
   "cell_type": "code",
   "execution_count": 10,
   "id": "f13ba931",
   "metadata": {},
   "outputs": [
    {
     "name": "stdout",
     "output_type": "stream",
     "text": [
      "Forest density\n",
      "Mandir Marg, Delhi - DPCC=0.00024191357230874682\n",
      "Forest density\n",
      "Chandni Chowk, Delhi - IITM=3.0886444917354208e-06\n",
      "Forest density\n",
      "Loni, Ghaziabad - UPPCB=0.0\n"
     ]
    }
   ],
   "source": [
    "#Computing Forest density\n",
    "for i in range(0, len(locations)):\n",
    "    a1 = gdf.iloc[i]\n",
    "    forest_density = for_gpd['geometry'].intersection(a1['geometry']).area\n",
    "    print('Forest density')\n",
    "    print(a1['name']+'='+str(forest_density.sum()))"
   ]
  },
  {
   "cell_type": "code",
   "execution_count": 11,
   "id": "429c1d0b",
   "metadata": {},
   "outputs": [],
   "source": [
    "# Observations from the Forest Density Analysis\n",
    "\n",
    "# Mandir Marg has the highest forest density cover.\n",
    "# Loni Ghaziabad has the least forest density cover."
   ]
  },
  {
   "cell_type": "code",
   "execution_count": 12,
   "id": "8fb1d116",
   "metadata": {},
   "outputs": [],
   "source": [
    "# Industries are another important indicator for the AQI levels.\n",
    "# Density of industries is another parameter for the analysis.\n",
    "# Loading Industries Layer\n",
    "\n",
    "ind_gpd = gpd.read_file(WORKDIR+'/datasets/industrial.geojson')\n",
    "ind_gpd['geometry'] = ind_gpd['geometry'].buffer(0)"
   ]
  },
  {
   "cell_type": "code",
   "execution_count": 13,
   "id": "84e852d4",
   "metadata": {},
   "outputs": [
    {
     "name": "stdout",
     "output_type": "stream",
     "text": [
      "Industry density\n",
      "Mandir Marg, Delhi - DPCC=2.64257285501008e-06\n",
      "Industry density\n",
      "Chandni Chowk, Delhi - IITM=0.0\n",
      "Industry density\n",
      "Loni, Ghaziabad - UPPCB=0.0\n"
     ]
    }
   ],
   "source": [
    "#Computing Industrial density\n",
    "for i in range(0, len(locations)):\n",
    "    a1 = gdf.iloc[i]\n",
    "    print('Industry density')\n",
    "    ind_density = ind_gpd['geometry'].intersection(a1['geometry']).area\n",
    "    print(a1['name']+'='+str(ind_density.sum()))"
   ]
  },
  {
   "cell_type": "code",
   "execution_count": 14,
   "id": "a6665054",
   "metadata": {},
   "outputs": [],
   "source": [
    "# Observations from the industries layer\n",
    "\n",
    "# Mandir marg has highest density of industries among the other two regions."
   ]
  },
  {
   "cell_type": "code",
   "execution_count": 15,
   "id": "dca393e9",
   "metadata": {},
   "outputs": [
    {
     "name": "stdout",
     "output_type": "stream",
     "text": [
      "During Lockdown Stages\n",
      "Total number of firespots:  35\n",
      "Min Distance of fires from Mandir Marg, Delhi - DPCC: 0.051342879966421756\n",
      "Min Distance of fires from Chandni Chowk, Delhi - IITM: 0.019378902471530596\n",
      "Min Distance of fires from Loni, Ghaziabad - UPPCB: 0.06484997939861163\n",
      "During no lockdown Stages\n",
      "Total number of firespots:  20\n",
      "Min Distance of fires from Mandir Marg, Delhi - DPCC: 0.06584397077840266\n",
      "Min Distance of fires from Chandni Chowk, Delhi - IITM: 0.033417587599974874\n",
      "Min Distance of fires from Loni, Ghaziabad - UPPCB: 0.04566881651630366\n"
     ]
    }
   ],
   "source": [
    "# Firespots data analysis\n",
    "import numpy as np\n",
    "\n",
    "firespots = gpd.read_file(WORKDIR+'/datasets/firespots.geojson')\n",
    "\n",
    "firespots['acq_date'] = pd.to_datetime(firespots['acq_date'], format='%Y-%m-%d')\n",
    "\n",
    "\n",
    "def compute_distances(reg, df1):\n",
    "    dists = []\n",
    "    for i, centr in df1.centroid.iteritems():\n",
    "        dist = centr.distance(reg.geometry.centroid)\n",
    "        dists.append(dist)        \n",
    "    return np.array(dists)\n",
    "\n",
    "print('During Lockdown Stages')\n",
    "firespots_lockdown = firespots[firespots['acq_date']>lockdown_date]\n",
    "print('Total number of firespots: ', firespots_lockdown['acq_date'].count())\n",
    "print('Min Distance of fires from '+locations[0]+': '+str(compute_distances(gdf.iloc[0], firespots_lockdown).min()))\n",
    "print('Min Distance of fires from '+locations[1]+': '+str(compute_distances(gdf.iloc[1], firespots_lockdown).min()))\n",
    "print('Min Distance of fires from '+locations[2]+': '+str(compute_distances(gdf.iloc[2], firespots_lockdown).min()))\n",
    "print('During no lockdown Stages')\n",
    "firespots_nolockdown = firespots[firespots['acq_date']<lockdown_date]\n",
    "print('Total number of firespots: ', firespots_nolockdown['acq_date'].count())\n",
    "print('Min Distance of fires from '+locations[0]+': '+str(compute_distances(gdf.iloc[0], firespots_nolockdown).min()))\n",
    "print('Min Distance of fires from '+locations[1]+': '+str(compute_distances(gdf.iloc[1], firespots_nolockdown).min()))\n",
    "print('Min Distance of fires from '+locations[2]+': '+str(compute_distances(gdf.iloc[2], firespots_nolockdown).min()))"
   ]
  },
  {
   "cell_type": "code",
   "execution_count": 16,
   "id": "0f2fff5d",
   "metadata": {},
   "outputs": [],
   "source": [
    "# Observations:\n",
    "\n",
    "# Firespots are near to Chandni Chowk, Delhi - IITM station than others.\n",
    "# Number of firespots during the lockdown is more than during no lockdown."
   ]
  },
  {
   "cell_type": "code",
   "execution_count": 17,
   "id": "4f5fbe69",
   "metadata": {},
   "outputs": [
    {
     "name": "stdout",
     "output_type": "stream",
     "text": [
      "\n",
      "Aerosol Levels before lockdown\n",
      "Mean aerosol level:  102.24962809858812\n",
      "Aerosol-Proximity from Forests:  0.14268556434569138\n",
      "Aerosol-Proximity from Highways:  -0.07375337222317922\n",
      "Aerosol-Proximity from Industries:  0.1001126599546994\n",
      "\n",
      "Aerosol Levels after lockdown\n",
      "Mean aerosol level:  196.16566732100327\n",
      "Aerosol-Proximity from Forests:  0.03981260856901198\n",
      "Aerosol-Proximity from Highways:  0.11509387417381903\n",
      "Aerosol-Proximity from Industries:  0.03501992670922746\n"
     ]
    }
   ],
   "source": [
    "# Loading aerosol data and the distance arrays\n",
    "\n",
    "from osgeo import gdal_array\n",
    "import numpy as np\n",
    "\n",
    "dataset = pd.DataFrame()\n",
    "\n",
    "aerosolArray = np.array(gdal_array.LoadFile(WORKDIR+'/datasets/aerosol_layer0401.tif'))\n",
    "dataset['aerosol01'] = np.ndarray.flatten(aerosolArray)\n",
    "cloudCover01 =  0.03 # Metadata: Land Cloud cover collected from the Landsat Website\n",
    "\n",
    "aerosolArray = np.array(gdal_array.LoadFile(WORKDIR+'/datasets/aerosol_layer0424.tif'))\n",
    "dataset['aerosol24'] = np.ndarray.flatten(aerosolArray)\n",
    "cloudCover24 = 41.56 # Metadata: Land Cloud cover collected from the Landsat Website\n",
    "\n",
    "dist_forest = np.array(gdal_array.LoadFile(WORKDIR+'/datasets/dist_from_forests.tif'))\n",
    "dataset['dforest'] = np.ndarray.flatten(dist_forest)\n",
    "\n",
    "dist_highways = np.array(gdal_array.LoadFile(WORKDIR+'/datasets/dist_from_highways.tif'))\n",
    "dataset['dhighways'] = np.ndarray.flatten(dist_highways)\n",
    "\n",
    "dist_industries = np.array(gdal_array.LoadFile(WORKDIR+'/datasets/dist_from_industries.tif'))\n",
    "dataset['dindustries'] = np.ndarray.flatten(dist_industries)\n",
    "\n",
    "dataset = dataset[dataset['aerosol01']>aerosolArray.min()]\n",
    "dataset = dataset[dataset['aerosol24']>aerosolArray.min()]\n",
    "\n",
    "# Comparing the aerosol levels\n",
    "# Finding Correlation between the proximity from different features and aerosol levels.\n",
    "print('\\nAerosol Levels before lockdown')\n",
    "print('Mean aerosol level: ', dataset['aerosol01'].mean())\n",
    "print('Aerosol-Proximity from Forests: ',dataset['aerosol01'].corr(dataset['dforest'], method='pearson'))\n",
    "print('Aerosol-Proximity from Highways: ',dataset['aerosol01'].corr(dataset['dhighways'], method='pearson'))\n",
    "print('Aerosol-Proximity from Industries: ',dataset['aerosol01'].corr(dataset['dindustries'], method='pearson'))\n",
    "print('\\nAerosol Levels after lockdown')\n",
    "print('Mean aerosol level: ', dataset['aerosol24'].mean())\n",
    "print('Aerosol-Proximity from Forests: ',dataset['aerosol24'].corr(dataset['dforest'], method='pearson'))\n",
    "print('Aerosol-Proximity from Highways: ',dataset['aerosol24'].corr(dataset['dhighways'], method='pearson'))\n",
    "print('Aerosol-Proximity from Industries: ',dataset['aerosol24'].corr(dataset['dindustries'], method='pearson'))"
   ]
  },
  {
   "cell_type": "code",
   "execution_count": 18,
   "id": "c1b7550d",
   "metadata": {},
   "outputs": [],
   "source": [
    "# Observations\n",
    "\n",
    "# Mean aerosol levels are higher during the lockdown period.\n",
    "# The cloud cover during the period of lockdown is higher than during no lockdown. \n",
    "# The pearson correlation between aerosol and proximity from forests is higher during no lockdown.\n",
    "# The pearson correlation between aerosol and proximity from highways is negative during no lockdown.\n",
    "# The pearson correlation between aerosol and proximity from highways is positive and higher during lockdown.\n"
   ]
  },
  {
   "cell_type": "code",
   "execution_count": 19,
   "id": "d120ea61",
   "metadata": {},
   "outputs": [],
   "source": [
    "# Summary of Observations from the analysis\n",
    "\n",
    "# The highest mean AQI is for the location of Loni, Ghaziabad region.\n",
    "# The mean AQI of Mandir Marg and Loni is lower before the lockdown starts.\n",
    "# The mean AQI of Chandni Chowk decreases significantly during the lockdown period.\n",
    "\n",
    "# Mandir Marg has the maximum highway and railway density in the region.\n",
    "# Loni, Ghaziabad has the least highway and railway density in the region.\n",
    "\n",
    "# Mandir Marg has the highest forest density cover.\n",
    "# Loni Ghaziabad has the least forest density cover.\n",
    "\n",
    "# Mandir marg has highest density of industries among the other two regions.\n",
    "\n",
    "# Firespots are near to Chandni Chowk, Delhi - IITM station than others.\n",
    "# Number of firespots during the lockdown is more than during no lockdown.\n",
    "\n",
    "# Mean aerosol levels are higher during the lockdown period.\n",
    "# The cloud cover during the period of lockdown is higher than during no lockdown. \n",
    "# The pearson correlation between aerosol and proximity from forests is higher during no lockdown.\n",
    "# The pearson correlation between aerosol and proximity from highways is negative during no lockdown.\n",
    "# The pearson correlation between aerosol and proximity from highways is positive and higher during lockdown.\n",
    "\n",
    "# Conclusions\n",
    "\n",
    "# With increase in the number of fire occurrences, the Mean aerosol levels can rise.\n",
    "# With increase in distance from forest cover, the aerosol levels also increase.\n",
    "# Even when there is limited mobility, the aerosol levels can be higher because of nearby fires and absence of forest cover.\n"
   ]
  },
  {
   "cell_type": "code",
   "execution_count": null,
   "id": "7b924fee",
   "metadata": {},
   "outputs": [],
   "source": []
  }
 ],
 "metadata": {
  "kernelspec": {
   "display_name": "Python 3 (ipykernel)",
   "language": "python",
   "name": "python3"
  },
  "language_info": {
   "codemirror_mode": {
    "name": "ipython",
    "version": 3
   },
   "file_extension": ".py",
   "mimetype": "text/x-python",
   "name": "python",
   "nbconvert_exporter": "python",
   "pygments_lexer": "ipython3",
   "version": "3.9.1"
  }
 },
 "nbformat": 4,
 "nbformat_minor": 5
}
