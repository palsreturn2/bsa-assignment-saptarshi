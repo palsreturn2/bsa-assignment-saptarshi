{
 "cells": [
  {
   "cell_type": "code",
   "execution_count": 1,
   "id": "71490f3d",
   "metadata": {},
   "outputs": [],
   "source": [
    "import os\n",
    "import warnings\n",
    "warnings.filterwarnings('ignore')\n",
    "WORKDIR = os.getcwd()"
   ]
  },
  {
   "cell_type": "code",
   "execution_count": 2,
   "id": "5ef0a4ba",
   "metadata": {
    "scrolled": true
   },
   "outputs": [
    {
     "name": "stdout",
     "output_type": "stream",
     "text": [
      "Lockdown Date:  2021-04-19 00:00:00\n",
      "Locations Mean AQI\n",
      "Mandir Marg, Delhi - DPCC=164.85\n",
      "Chandni Chowk, Delhi - IITM=216.57142857142858\n",
      "Loni, Ghaziabad - UPPCB=269.0\n",
      "\n",
      "Mean AQI after full lockdown period started\n",
      "Mandir Marg, Delhi - DPCC=183.1\n",
      "Chandni Chowk, Delhi - IITM=172.0\n",
      "Loni, Ghaziabad - UPPCB=271.9166666666667\n",
      "\n",
      "Mean AQI before full lockdown period started\n",
      "Mandir Marg, Delhi - DPCC=146.6\n",
      "Chandni Chowk, Delhi - IITM=250.0\n",
      "Loni, Ghaziabad - UPPCB=266.8125\n"
     ]
    }
   ],
   "source": [
    "# Reading air quality sensor data obtained from CPCB platform.\n",
    "\n",
    "from datetime import datetime\n",
    "import pandas as pd\n",
    "\n",
    "# Locations where CPCB air quality sensors are present and are collecting ground truth data\n",
    "\n",
    "locations = [\n",
    "    'Mandir Marg, Delhi - DPCC',\n",
    "    'Chandni Chowk, Delhi - IITM',    \n",
    "    'Loni, Ghaziabad - UPPCB'\n",
    "]\n",
    "\n",
    "#Lockdown Start date 19th April\n",
    "\n",
    "lockdown_date = datetime.strptime('19-04-2021', '%d-%m-%Y')\n",
    "print('Lockdown Date: ',lockdown_date)\n",
    "\n",
    "aq_sensor_data = pd.read_excel(WORKDIR+'/datasets/aqi_sensor_data.xlsx', header=0)  \n",
    "aq_sensor_data['datetime'] = pd.to_datetime(aq_sensor_data['datetime'], format='%A, %d %b %Y %I:%M %p')\n",
    "print('Locations Mean AQI')\n",
    "for i in range(0, len(locations)):\n",
    "    print(locations[i]+\"=\"+str(aq_sensor_data[aq_sensor_data['name']==locations[i]]['aqi'].mean()))\n",
    "print('\\nMean AQI after full lockdown period started')\n",
    "for i in range(0, len(locations)):\n",
    "    print(locations[i]+\"=\"+str(aq_sensor_data[(aq_sensor_data['name']==locations[i]) \n",
    "                                              & (aq_sensor_data['datetime']>=lockdown_date)]['aqi'].mean()))\n",
    "\n",
    "print('\\nMean AQI before full lockdown period started')\n",
    "for i in range(0, len(locations)):\n",
    "    print(locations[i]+\"=\"+str(aq_sensor_data[(aq_sensor_data['name']==locations[i]) \n",
    "                                              & (aq_sensor_data['datetime']<lockdown_date)]['aqi'].mean()))"
   ]
  },
  {
   "cell_type": "code",
   "execution_count": 3,
   "id": "11241e95",
   "metadata": {},
   "outputs": [],
   "source": [
    "# Observations from the data\n",
    "\n",
    "# Delhi lockdown dates in 2021 from April 19 onwards\n",
    "# https://www.thehindu.com/news/cities/Delhi/delhi-lockdown-extended-till-may-31/article34625962.ece\n",
    "\n",
    "# The above collected data is for the month of April 2021 for three stations.\n",
    "\n",
    "# The highest mean AQI is for the location of Loni, Ghaziabad region.\n",
    "# The mean AQI of Mandir Marg and Loni is lower before the lockdown starts.\n",
    "# The mean AQI of Chandni Chowk decreases significantly during the lockdown period."
   ]
  },
  {
   "cell_type": "code",
   "execution_count": 4,
   "id": "16cfc529",
   "metadata": {},
   "outputs": [
    {
     "data": {
      "text/html": [
       "<div>\n",
       "<style scoped>\n",
       "    .dataframe tbody tr th:only-of-type {\n",
       "        vertical-align: middle;\n",
       "    }\n",
       "\n",
       "    .dataframe tbody tr th {\n",
       "        vertical-align: top;\n",
       "    }\n",
       "\n",
       "    .dataframe thead th {\n",
       "        text-align: right;\n",
       "    }\n",
       "</style>\n",
       "<table border=\"1\" class=\"dataframe\">\n",
       "  <thead>\n",
       "    <tr style=\"text-align: right;\">\n",
       "      <th></th>\n",
       "      <th>id</th>\n",
       "      <th>name</th>\n",
       "      <th>geometry</th>\n",
       "    </tr>\n",
       "  </thead>\n",
       "  <tbody>\n",
       "    <tr>\n",
       "      <th>0</th>\n",
       "      <td>1</td>\n",
       "      <td>Mandir Marg, Delhi - DPCC</td>\n",
       "      <td>POINT (77.20106 28.63643)</td>\n",
       "    </tr>\n",
       "    <tr>\n",
       "      <th>1</th>\n",
       "      <td>2</td>\n",
       "      <td>Chandni Chowk, Delhi - IITM</td>\n",
       "      <td>POINT (77.22723 28.65676)</td>\n",
       "    </tr>\n",
       "    <tr>\n",
       "      <th>2</th>\n",
       "      <td>3</td>\n",
       "      <td>Loni, Ghaziabad - UPPCB</td>\n",
       "      <td>POINT (77.27879 28.75729)</td>\n",
       "    </tr>\n",
       "  </tbody>\n",
       "</table>\n",
       "</div>"
      ],
      "text/plain": [
       "   id                         name                   geometry\n",
       "0   1    Mandir Marg, Delhi - DPCC  POINT (77.20106 28.63643)\n",
       "1   2  Chandni Chowk, Delhi - IITM  POINT (77.22723 28.65676)\n",
       "2   3      Loni, Ghaziabad - UPPCB  POINT (77.27879 28.75729)"
      ]
     },
     "execution_count": 4,
     "metadata": {},
     "output_type": "execute_result"
    }
   ],
   "source": [
    "# Air quality sensor locations of the three ground stations\n",
    "\n",
    "import geopandas as gpd\n",
    "gdf = gpd.read_file(WORKDIR+'/datasets/aq_stations.geojson')\n",
    "gdf.head()"
   ]
  },
  {
   "cell_type": "code",
   "execution_count": 7,
   "id": "671466d3",
   "metadata": {},
   "outputs": [],
   "source": [
    "# Region of interest: Buffer of 0.02 degrees is taken around the ground sensors.\n",
    "# Assumption: Near things affect more than distant things.\n",
    "\n",
    "gdf['geometry'] = gdf['geometry']\n",
    "gdf['geometry'] = gdf['geometry'].buffer(0.02)"
   ]
  },
  {
   "cell_type": "code",
   "execution_count": 8,
   "id": "6cdbb8b6",
   "metadata": {},
   "outputs": [],
   "source": [
    "# Mobility can be one of the factors for increase in the AQI levels.\n",
    "# So one of the parameters can be density of railways and roadways.\n",
    "# Fetching Highways and Railways Data\n",
    "\n",
    "hr_gpd = gpd.read_file(WORKDIR+'/datasets/highways_railways.geojson')"
   ]
  },
  {
   "cell_type": "code",
   "execution_count": 9,
   "id": "c8feca98",
   "metadata": {},
   "outputs": [
    {
     "name": "stdout",
     "output_type": "stream",
     "text": [
      "Road Density Values\n",
      "Mandir Marg, Delhi - DPCC=8.27177780643744\n",
      "Road Density Values\n",
      "Chandni Chowk, Delhi - IITM=8.977111321623845\n",
      "Road Density Values\n",
      "Loni, Ghaziabad - UPPCB=0.2117203271724803\n"
     ]
    }
   ],
   "source": [
    "#Computing highway and railway line density\n",
    "for i in range(0, len(locations)):\n",
    "    a1 = gdf.iloc[i]    \n",
    "    road_density = hr_gpd['geometry'].intersection(a1['geometry']).length\n",
    "    print('Road Density Values')\n",
    "    print(a1['name']+'='+str(road_density.sum()))\n"
   ]
  },
  {
   "cell_type": "code",
   "execution_count": 10,
   "id": "b453f917",
   "metadata": {},
   "outputs": [],
   "source": [
    "# Observations from the Road Density Values\n",
    "\n",
    "# Mandir Marg has the maximum highway and railway density in the region.\n",
    "# Loni, Ghaziabad has the least highway and railway density in the region."
   ]
  },
  {
   "cell_type": "code",
   "execution_count": 11,
   "id": "d87670e9",
   "metadata": {},
   "outputs": [],
   "source": [
    "# Forest cover is another important indicator for AQI levels.\n",
    "# Loading Forest Layer\n",
    "\n",
    "for_gpd = gpd.read_file(WORKDIR+'/datasets/forests.geojson')\n",
    "for_gpd['geometry'] = for_gpd['geometry'].buffer(0)"
   ]
  },
  {
   "cell_type": "code",
   "execution_count": 12,
   "id": "f13ba931",
   "metadata": {},
   "outputs": [
    {
     "name": "stdout",
     "output_type": "stream",
     "text": [
      "Forest density\n",
      "Mandir Marg, Delhi - DPCC=0.0008096568572225134\n",
      "Forest density\n",
      "Chandni Chowk, Delhi - IITM=0.00019759138908026074\n",
      "Forest density\n",
      "Loni, Ghaziabad - UPPCB=0.0\n"
     ]
    }
   ],
   "source": [
    "#Computing Forest density\n",
    "for i in range(0, len(locations)):\n",
    "    a1 = gdf.iloc[i]\n",
    "    forest_density = for_gpd['geometry'].intersection(a1['geometry']).area\n",
    "    print('Forest density')\n",
    "    print(a1['name']+'='+str(forest_density.sum()))"
   ]
  },
  {
   "cell_type": "code",
   "execution_count": 13,
   "id": "429c1d0b",
   "metadata": {},
   "outputs": [],
   "source": [
    "# Observations from the Forest Density Analysis\n",
    "\n",
    "# Mandir Marg has the highest forest density cover.\n",
    "# Loni Ghaziabad has the least forest density cover."
   ]
  },
  {
   "cell_type": "code",
   "execution_count": 14,
   "id": "8fb1d116",
   "metadata": {},
   "outputs": [],
   "source": [
    "# Industries are another important indicator for the AQI levels.\n",
    "# Density of industries is another parameter for the analysis.\n",
    "# Loading Industries Layer\n",
    "\n",
    "ind_gpd = gpd.read_file(WORKDIR+'/datasets/industrial.geojson')\n",
    "ind_gpd['geometry'] = ind_gpd['geometry'].buffer(0)"
   ]
  },
  {
   "cell_type": "code",
   "execution_count": 15,
   "id": "84e852d4",
   "metadata": {},
   "outputs": [
    {
     "name": "stdout",
     "output_type": "stream",
     "text": [
      "Industry density\n",
      "Mandir Marg, Delhi - DPCC=3.785952890007897e-06\n",
      "Industry density\n",
      "Chandni Chowk, Delhi - IITM=2.537220334806905e-05\n",
      "Industry density\n",
      "Loni, Ghaziabad - UPPCB=2.1580790141332005e-05\n"
     ]
    }
   ],
   "source": [
    "#Computing Industrial density\n",
    "for i in range(0, len(locations)):\n",
    "    a1 = gdf.iloc[i]\n",
    "    print('Industry density')\n",
    "    ind_density = ind_gpd['geometry'].intersection(a1['geometry']).area\n",
    "    print(a1['name']+'='+str(ind_density.sum()))"
   ]
  },
  {
   "cell_type": "code",
   "execution_count": 16,
   "id": "a6665054",
   "metadata": {},
   "outputs": [],
   "source": [
    "# Observations from the industries layer\n",
    "\n",
    "# Mandir marg has highest density of industries among the other two regions."
   ]
  },
  {
   "cell_type": "code",
   "execution_count": 17,
   "id": "4f5fbe69",
   "metadata": {},
   "outputs": [
    {
     "name": "stdout",
     "output_type": "stream",
     "text": [
      "Aerosol-Proximity from Forests:  0.011710668910335304\n",
      "Aerosol-Proximity from Highways:  0.0051661418193077145\n",
      "Aerosol-Proximity from Industries:  0.009112279248524582\n"
     ]
    }
   ],
   "source": [
    "# Loading aerosol data and the distance arrays\n",
    "\n",
    "from osgeo import gdal_array\n",
    "import numpy as np\n",
    "\n",
    "dataset = pd.DataFrame()\n",
    "\n",
    "aerosolArray = np.array(gdal_array.LoadFile(WORKDIR+'/datasets/aerosol_layer.tif'))\n",
    "dataset['aerosol'] = np.ndarray.flatten(aerosolArray)\n",
    "\n",
    "dist_forest = np.array(gdal_array.LoadFile(WORKDIR+'/datasets/dist_from_forests.tif'))\n",
    "dataset['dforest'] = np.ndarray.flatten(dist_forest)\n",
    "\n",
    "dist_highways = np.array(gdal_array.LoadFile(WORKDIR+'/datasets/dist_from_highways.tif'))\n",
    "dataset['dhighways'] = np.ndarray.flatten(dist_highways)\n",
    "\n",
    "dist_industries = np.array(gdal_array.LoadFile(WORKDIR+'/datasets/dist_from_industries.tif'))\n",
    "dataset['dindustries'] = np.ndarray.flatten(dist_industries)\n",
    "\n",
    "dataset = dataset[dataset['aerosol']>aerosolArray.min()]\n",
    "\n",
    "#Finding Correlation between the proximity from different features and aerosol levels.\n",
    "\n",
    "print('Aerosol-Proximity from Forests: ',dataset['aerosol'].corr(dataset['dforest'], method='pearson'))\n",
    "print('Aerosol-Proximity from Highways: ',dataset['aerosol'].corr(dataset['dhighways'], method='pearson'))\n",
    "print('Aerosol-Proximity from Industries: ',dataset['aerosol'].corr(dataset['dindustries'], method='pearson'))"
   ]
  },
  {
   "cell_type": "code",
   "execution_count": 18,
   "id": "c1b7550d",
   "metadata": {},
   "outputs": [],
   "source": [
    "# Observations\n",
    "\n",
    "# The pearson correlation between aerosol and distance from forests is the highest. This\n",
    "# indicates that there is a positive and stronger linear relationship between aerosol \n",
    "# levels and proximity of forests than with industries and highways."
   ]
  },
  {
   "cell_type": "code",
   "execution_count": 19,
   "id": "d120ea61",
   "metadata": {},
   "outputs": [],
   "source": [
    "# Summary of Observations from the analysis\n",
    "\n",
    "# The highest mean AQI is for the location of Loni, Ghaziabad region.\n",
    "# The mean AQI of Mandir Marg and Loni is lower before the lockdown starts.\n",
    "# The mean AQI of Chandni Chowk decreases significantly during the lockdown period.\n",
    "\n",
    "# Mandir Marg has the maximum highway and railway density in the region.\n",
    "# Loni, Ghaziabad has the least highway and railway density in the region.\n",
    "\n",
    "# Mandir Marg has the highest forest density cover.\n",
    "# Loni Ghaziabad has the least forest density cover.\n",
    "\n",
    "# Mandir marg has highest density of industries among the other two regions.\n",
    "\n",
    "# The pearson correlation between aerosol and distance from forests is the highest. This\n",
    "# indicates that there is a positive and stronger linear relationship between aerosol \n",
    "# levels and proximity of forests than with industries and highways.\n",
    "\n",
    "# Conclusions\n",
    "\n",
    "# The decrease in mean AQI in Chandni Chowk is possibly because of the presence of forest\n",
    "# and absence of industry together."
   ]
  },
  {
   "cell_type": "code",
   "execution_count": null,
   "id": "7b924fee",
   "metadata": {},
   "outputs": [],
   "source": []
  }
 ],
 "metadata": {
  "kernelspec": {
   "display_name": "Python 3 (ipykernel)",
   "language": "python",
   "name": "python3"
  },
  "language_info": {
   "codemirror_mode": {
    "name": "ipython",
    "version": 3
   },
   "file_extension": ".py",
   "mimetype": "text/x-python",
   "name": "python",
   "nbconvert_exporter": "python",
   "pygments_lexer": "ipython3",
   "version": "3.9.1"
  }
 },
 "nbformat": 4,
 "nbformat_minor": 5
}
