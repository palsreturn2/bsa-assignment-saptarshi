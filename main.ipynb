{
 "cells": [
  {
   "cell_type": "code",
   "execution_count": 1,
   "id": "71490f3d",
   "metadata": {},
   "outputs": [],
   "source": [
    "import os\n",
    "import warnings\n",
    "warnings.filterwarnings('ignore')\n",
    "WORKDIR = os.getcwd()"
   ]
  },
  {
   "cell_type": "code",
   "execution_count": 2,
   "id": "5ef0a4ba",
   "metadata": {
    "scrolled": true
   },
   "outputs": [
    {
     "name": "stdout",
     "output_type": "stream",
     "text": [
      "0      Mandir Marg, Delhi - DPCC\n",
      "1    Chandni Chowk, Delhi - IITM\n",
      "2        Loni, Ghaziabad - UPPCB\n",
      "Name: name, dtype: object\n",
      "Lockdown Date:  2021-04-19 00:00:00\n",
      "Locations Mean AQI\n",
      "Mandir Marg, Delhi - DPCC=164.85\n",
      "Chandni Chowk, Delhi - IITM=216.57142857142858\n",
      "Loni, Ghaziabad - UPPCB=269.0\n",
      "\n",
      "Mean AQI after full lockdown period started\n",
      "Mandir Marg, Delhi - DPCC=183.1\n",
      "Chandni Chowk, Delhi - IITM=172.0\n",
      "Loni, Ghaziabad - UPPCB=271.9166666666667\n",
      "\n",
      "Mean AQI before full lockdown period started\n",
      "Mandir Marg, Delhi - DPCC=146.6\n",
      "Chandni Chowk, Delhi - IITM=250.0\n",
      "Loni, Ghaziabad - UPPCB=266.8125\n"
     ]
    }
   ],
   "source": [
    "# Reading air quality sensor data obtained from CPCB platform.\n",
    "\n",
    "from datetime import datetime\n",
    "import pandas as pd\n",
    "\n",
    "# Air quality sensor locations of the three ground stations\n",
    "\n",
    "import geopandas as gpd\n",
    "gdf = gpd.read_file(WORKDIR+'/datasets/aq_stations.geojson')\n",
    "\n",
    "locations = gdf['name']\n",
    "print(locations)\n",
    "\n",
    "#Lockdown Start date 19th April\n",
    "\n",
    "lockdown_date = datetime.strptime('19-04-2021', '%d-%m-%Y')\n",
    "print('Lockdown Date: ',lockdown_date)\n",
    "\n",
    "aq_sensor_data = pd.read_excel(WORKDIR+'/datasets/aqi_sensor_data.xlsx', header=0)  \n",
    "aq_sensor_data['datetime'] = pd.to_datetime(aq_sensor_data['datetime'], format='%A, %d %b %Y %I:%M %p')\n",
    "print('Locations Mean AQI')\n",
    "for i in range(0, len(locations)):\n",
    "    print(locations[i]+\"=\"+str(aq_sensor_data[aq_sensor_data['name']==locations[i]]['aqi'].mean()))\n",
    "print('\\nMean AQI after full lockdown period started')\n",
    "for i in range(0, len(locations)):\n",
    "    print(locations[i]+\"=\"+str(aq_sensor_data[(aq_sensor_data['name']==locations[i]) \n",
    "                                              & (aq_sensor_data['datetime']>=lockdown_date)]['aqi'].mean()))\n",
    "\n",
    "print('\\nMean AQI before full lockdown period started')\n",
    "for i in range(0, len(locations)):\n",
    "    print(locations[i]+\"=\"+str(aq_sensor_data[(aq_sensor_data['name']==locations[i]) \n",
    "                                              & (aq_sensor_data['datetime']<lockdown_date)]['aqi'].mean()))"
   ]
  },
  {
   "cell_type": "code",
   "execution_count": 3,
   "id": "11241e95",
   "metadata": {},
   "outputs": [],
   "source": [
    "# Observations from the data\n",
    "\n",
    "# Delhi lockdown dates in 2021 from April 19 onwards\n",
    "# https://www.thehindu.com/news/cities/Delhi/delhi-lockdown-extended-till-may-31/article34625962.ece\n",
    "\n",
    "# The above collected data is for the month of April 2021 for three stations.\n",
    "\n",
    "# The highest mean AQI is for the location of Loni, Ghaziabad region.\n",
    "# The mean AQI of Mandir Marg and Loni is lower before the lockdown starts.\n",
    "# The mean AQI of Chandni Chowk decreases significantly during the lockdown period."
   ]
  },
  {
   "cell_type": "code",
   "execution_count": 4,
   "id": "671466d3",
   "metadata": {},
   "outputs": [],
   "source": [
    "# Region of interest: Buffer of 0.02 degrees is taken around the ground sensors.\n",
    "# Assumption: Near things affect more than distant things.\n",
    "\n",
    "gdf['geometry'] = gdf['geometry']\n",
    "gdf['geometry'] = gdf['geometry'].buffer(0.02)"
   ]
  },
  {
   "cell_type": "code",
   "execution_count": 5,
   "id": "6cdbb8b6",
   "metadata": {},
   "outputs": [],
   "source": [
    "# Mobility can be one of the factors for increase in the AQI levels.\n",
    "# So one of the parameters can be density of railways and roadways.\n",
    "# Fetching Highways and Railways Data\n",
    "\n",
    "hr_gpd = gpd.read_file(WORKDIR+'/datasets/highways_railways.geojson')"
   ]
  },
  {
   "cell_type": "code",
   "execution_count": 6,
   "id": "c8feca98",
   "metadata": {},
   "outputs": [
    {
     "name": "stdout",
     "output_type": "stream",
     "text": [
      "Road Density Values\n",
      "Mandir Marg, Delhi - DPCC=2.483152797382156\n",
      "Road Density Values\n",
      "Chandni Chowk, Delhi - IITM=2.266370100077988\n",
      "Road Density Values\n",
      "Loni, Ghaziabad - UPPCB=0.07730455236204287\n"
     ]
    }
   ],
   "source": [
    "#Computing highway and railway line density\n",
    "for i in range(0, len(locations)):\n",
    "    a1 = gdf.iloc[i]    \n",
    "    road_density = hr_gpd['geometry'].intersection(a1['geometry']).length\n",
    "    print('Road Density Values')\n",
    "    print(a1['name']+'='+str(road_density.sum()))\n"
   ]
  },
  {
   "cell_type": "code",
   "execution_count": 7,
   "id": "b453f917",
   "metadata": {},
   "outputs": [],
   "source": [
    "# Observations from the Road Density Values\n",
    "\n",
    "# Mandir Marg has the maximum highway and railway density in the region.\n",
    "# Loni, Ghaziabad has the least highway and railway density in the region."
   ]
  },
  {
   "cell_type": "code",
   "execution_count": 8,
   "id": "d87670e9",
   "metadata": {},
   "outputs": [],
   "source": [
    "# Forest cover is another important indicator for AQI levels.\n",
    "# Loading Forest Layer\n",
    "\n",
    "for_gpd = gpd.read_file(WORKDIR+'/datasets/forests.geojson')\n",
    "for_gpd['geometry'] = for_gpd['geometry'].buffer(0)"
   ]
  },
  {
   "cell_type": "code",
   "execution_count": 9,
   "id": "f13ba931",
   "metadata": {},
   "outputs": [
    {
     "name": "stdout",
     "output_type": "stream",
     "text": [
      "Forest density\n",
      "Mandir Marg, Delhi - DPCC=0.00024191357230874682\n",
      "Forest density\n",
      "Chandni Chowk, Delhi - IITM=3.0886444917354208e-06\n",
      "Forest density\n",
      "Loni, Ghaziabad - UPPCB=0.0\n"
     ]
    }
   ],
   "source": [
    "#Computing Forest density\n",
    "for i in range(0, len(locations)):\n",
    "    a1 = gdf.iloc[i]\n",
    "    forest_density = for_gpd['geometry'].intersection(a1['geometry']).area\n",
    "    print('Forest density')\n",
    "    print(a1['name']+'='+str(forest_density.sum()))"
   ]
  },
  {
   "cell_type": "code",
   "execution_count": 10,
   "id": "429c1d0b",
   "metadata": {},
   "outputs": [],
   "source": [
    "# Observations from the Forest Density Analysis\n",
    "\n",
    "# Mandir Marg has the highest forest density cover.\n",
    "# Loni Ghaziabad has the least forest density cover."
   ]
  },
  {
   "cell_type": "code",
   "execution_count": 11,
   "id": "8fb1d116",
   "metadata": {},
   "outputs": [],
   "source": [
    "# Industries are another important indicator for the AQI levels.\n",
    "# Density of industries is another parameter for the analysis.\n",
    "# Loading Industries Layer\n",
    "\n",
    "ind_gpd = gpd.read_file(WORKDIR+'/datasets/industrial.geojson')\n",
    "ind_gpd['geometry'] = ind_gpd['geometry'].buffer(0)"
   ]
  },
  {
   "cell_type": "code",
   "execution_count": 12,
   "id": "84e852d4",
   "metadata": {},
   "outputs": [
    {
     "name": "stdout",
     "output_type": "stream",
     "text": [
      "Industry density\n",
      "Mandir Marg, Delhi - DPCC=2.64257285501008e-06\n",
      "Industry density\n",
      "Chandni Chowk, Delhi - IITM=0.0\n",
      "Industry density\n",
      "Loni, Ghaziabad - UPPCB=0.0\n"
     ]
    }
   ],
   "source": [
    "#Computing Industrial density\n",
    "for i in range(0, len(locations)):\n",
    "    a1 = gdf.iloc[i]\n",
    "    print('Industry density')\n",
    "    ind_density = ind_gpd['geometry'].intersection(a1['geometry']).area\n",
    "    print(a1['name']+'='+str(ind_density.sum()))"
   ]
  },
  {
   "cell_type": "code",
   "execution_count": 13,
   "id": "a6665054",
   "metadata": {},
   "outputs": [],
   "source": [
    "# Observations from the industries layer\n",
    "\n",
    "# Mandir marg has highest density of industries among the other two regions."
   ]
  },
  {
   "cell_type": "code",
   "execution_count": 1,
   "id": "4f5fbe69",
   "metadata": {},
   "outputs": [
    {
     "ename": "NameError",
     "evalue": "name 'pd' is not defined",
     "output_type": "error",
     "traceback": [
      "\u001b[1;31m---------------------------------------------------------------------------\u001b[0m",
      "\u001b[1;31mNameError\u001b[0m                                 Traceback (most recent call last)",
      "Input \u001b[1;32mIn [1]\u001b[0m, in \u001b[0;36m<cell line: 6>\u001b[1;34m()\u001b[0m\n\u001b[0;32m      3\u001b[0m \u001b[38;5;28;01mfrom\u001b[39;00m \u001b[38;5;21;01mosgeo\u001b[39;00m \u001b[38;5;28;01mimport\u001b[39;00m gdal_array\n\u001b[0;32m      4\u001b[0m \u001b[38;5;28;01mimport\u001b[39;00m \u001b[38;5;21;01mnumpy\u001b[39;00m \u001b[38;5;28;01mas\u001b[39;00m \u001b[38;5;21;01mnp\u001b[39;00m\n\u001b[1;32m----> 6\u001b[0m dataset \u001b[38;5;241m=\u001b[39m \u001b[43mpd\u001b[49m\u001b[38;5;241m.\u001b[39mDataFrame()\n\u001b[0;32m      8\u001b[0m aerosolArray \u001b[38;5;241m=\u001b[39m np\u001b[38;5;241m.\u001b[39marray(gdal_array\u001b[38;5;241m.\u001b[39mLoadFile(WORKDIR\u001b[38;5;241m+\u001b[39m\u001b[38;5;124m'\u001b[39m\u001b[38;5;124m/datasets/aerosol_layer0401.tif\u001b[39m\u001b[38;5;124m'\u001b[39m))\n\u001b[0;32m      9\u001b[0m dataset[\u001b[38;5;124m'\u001b[39m\u001b[38;5;124maerosol01\u001b[39m\u001b[38;5;124m'\u001b[39m] \u001b[38;5;241m=\u001b[39m np\u001b[38;5;241m.\u001b[39mndarray\u001b[38;5;241m.\u001b[39mflatten(aerosolArray)\n",
      "\u001b[1;31mNameError\u001b[0m: name 'pd' is not defined"
     ]
    }
   ],
   "source": [
    "# Loading aerosol data and the distance arrays\n",
    "\n",
    "from osgeo import gdal_array\n",
    "import numpy as np\n",
    "\n",
    "dataset = pd.DataFrame()\n",
    "\n",
    "aerosolArray = np.array(gdal_array.LoadFile(WORKDIR+'/datasets/aerosol_layer0401.tif'))\n",
    "dataset['aerosol01'] = np.ndarray.flatten(aerosolArray)\n",
    "cloudCover01 =  0.03 # Metadata: Land Cloud cover collected from the Landsat Website\n",
    "\n",
    "aerosolArray = np.array(gdal_array.LoadFile(WORKDIR+'/datasets/aerosol_layer0424.tif'))\n",
    "dataset['aerosol24'] = np.ndarray.flatten(aerosolArray)\n",
    "cloudCover24 = 41.56 # Metadata: Land Cloud cover collected from the Landsat Website\n",
    "\n",
    "dist_forest = np.array(gdal_array.LoadFile(WORKDIR+'/datasets/dist_from_forests.tif'))\n",
    "dataset['dforest'] = np.ndarray.flatten(dist_forest)\n",
    "\n",
    "dist_highways = np.array(gdal_array.LoadFile(WORKDIR+'/datasets/dist_from_highways.tif'))\n",
    "dataset['dhighways'] = np.ndarray.flatten(dist_highways)\n",
    "\n",
    "dist_industries = np.array(gdal_array.LoadFile(WORKDIR+'/datasets/dist_from_industries.tif'))\n",
    "dataset['dindustries'] = np.ndarray.flatten(dist_industries)\n",
    "\n",
    "dataset = dataset[dataset['aerosol01']>aerosolArray.min()]\n",
    "dataset = dataset[dataset['aerosol24']>aerosolArray.min()]\n",
    "\n",
    "# Comparing the aerosol levels\n",
    "# Finding Correlation between the proximity from different features and aerosol levels.\n",
    "print('\\nAerosol Levels before lockdown')\n",
    "print('Mean aerosol level: ', dataset['aerosol01'].mean())\n",
    "print('Aerosol-Proximity from Forests: ',dataset['aerosol01'].corr(dataset['dforest'], method='pearson'))\n",
    "print('Aerosol-Proximity from Highways: ',dataset['aerosol01'].corr(dataset['dhighways'], method='pearson'))\n",
    "print('Aerosol-Proximity from Industries: ',dataset['aerosol01'].corr(dataset['dindustries'], method='pearson'))\n",
    "print('\\nAerosol Levels after lockdown')\n",
    "print('Mean aerosol level: ', dataset['aerosol24'].mean())\n",
    "print('Aerosol-Proximity from Forests: ',dataset['aerosol24'].corr(dataset['dforest'], method='pearson'))\n",
    "print('Aerosol-Proximity from Highways: ',dataset['aerosol24'].corr(dataset['dhighways'], method='pearson'))\n",
    "print('Aerosol-Proximity from Industries: ',dataset['aerosol24'].corr(dataset['dindustries'], method='pearson'))"
   ]
  },
  {
   "cell_type": "code",
   "execution_count": 16,
   "id": "c1b7550d",
   "metadata": {},
   "outputs": [],
   "source": [
    "# Observations\n",
    "\n",
    "# Mean aerosol levels are higher during the lockdown period.\n",
    "# The cloud cover during the period of lockdown is higher than during no lockdown. \n",
    "# The pearson correlation between aerosol and proximity from forests is higher during no lockdown.\n",
    "# The pearson correlation between aerosol and proximity from highways is negative during no lockdown.\n",
    "# The pearson correlation between aerosol and proximity from highways is positive and higher during lockdown.\n"
   ]
  },
  {
   "cell_type": "code",
   "execution_count": 17,
   "id": "d120ea61",
   "metadata": {},
   "outputs": [],
   "source": [
    "# Summary of Observations from the analysis\n",
    "\n",
    "# The highest mean AQI is for the location of Loni, Ghaziabad region.\n",
    "# The mean AQI of Mandir Marg and Loni is lower before the lockdown starts.\n",
    "# The mean AQI of Chandni Chowk decreases significantly during the lockdown period.\n",
    "\n",
    "# Mandir Marg has the maximum highway and railway density in the region.\n",
    "# Loni, Ghaziabad has the least highway and railway density in the region.\n",
    "\n",
    "# Mandir Marg has the highest forest density cover.\n",
    "# Loni Ghaziabad has the least forest density cover.\n",
    "\n",
    "# Mandir marg has highest density of industries among the other two regions.\n",
    "\n",
    "# The pearson correlation between aerosol and proximity from forests is higher during no lockdown.\n",
    "# The pearson correlation between aerosol and proximity from highways is negative during no lockdown.\n",
    "# The pearson correlation between aerosol and proximity from highways is positive and higher during lockdown.\n",
    "\n",
    "# Conclusions\n",
    "\n",
    "# The decrease in mean AQI in Chandni Chowk is possibly because of the presence of forest\n",
    "# and absence of industry together."
   ]
  },
  {
   "cell_type": "code",
   "execution_count": null,
   "id": "7b924fee",
   "metadata": {},
   "outputs": [],
   "source": []
  }
 ],
 "metadata": {
  "kernelspec": {
   "display_name": "Python 3 (ipykernel)",
   "language": "python",
   "name": "python3"
  },
  "language_info": {
   "codemirror_mode": {
    "name": "ipython",
    "version": 3
   },
   "file_extension": ".py",
   "mimetype": "text/x-python",
   "name": "python",
   "nbconvert_exporter": "python",
   "pygments_lexer": "ipython3",
   "version": "3.9.1"
  }
 },
 "nbformat": 4,
 "nbformat_minor": 5
}
