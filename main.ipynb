{
 "cells": [
  {
   "cell_type": "code",
   "execution_count": 1,
   "id": "71490f3d",
   "metadata": {},
   "outputs": [],
   "source": [
    "import os\n",
    "WORKDIR = os.getcwd()"
   ]
  },
  {
   "cell_type": "code",
   "execution_count": 2,
   "id": "5ef0a4ba",
   "metadata": {},
   "outputs": [
    {
     "name": "stdout",
     "output_type": "stream",
     "text": [
      "\n"
     ]
    },
    {
     "data": {
      "text/plain": [
       "<AxesSubplot:xlabel='date'>"
      ]
     },
     "execution_count": 2,
     "metadata": {},
     "output_type": "execute_result"
    },
    {
     "data": {
      "image/png": "[encoded data removed]",
      "text/plain": [
       "<Figure size 432x288 with 1 Axes>"
      ]
     },
     "metadata": {
      "needs_background": "light"
     },
     "output_type": "display_data"
    }
   ],
   "source": [
    "# Reading air quality sensor data obtained from CPCB platform\n",
    "import pandas as pd\n",
    "import json\n",
    "import matplotlib.pyplot as plt\n",
    "\n",
    "\n",
    "with open(WORKDIR+'/datasets/sdata6.json') as f:\n",
    "    data = json.load(f)\n",
    "print()\n",
    "columns = data['chartData'][0][0][:2]\n",
    "columns.append('color')\n",
    "df = pd.DataFrame(data['chartData'][0][1:], columns=columns)\n",
    "del df['color']\n",
    "df = df.dropna().reset_index(drop=True)\n",
    "df.plot(x='date', y='value', kind='line')"
   ]
  },
  {
   "cell_type": "code",
   "execution_count": 3,
   "id": "16cfc529",
   "metadata": {},
   "outputs": [
    {
     "data": {
      "text/html": [
       "<div>\n",
       "<style scoped>\n",
       "    .dataframe tbody tr th:only-of-type {\n",
       "        vertical-align: middle;\n",
       "    }\n",
       "\n",
       "    .dataframe tbody tr th {\n",
       "        vertical-align: top;\n",
       "    }\n",
       "\n",
       "    .dataframe thead th {\n",
       "        text-align: right;\n",
       "    }\n",
       "</style>\n",
       "<table border=\"1\" class=\"dataframe\">\n",
       "  <thead>\n",
       "    <tr style=\"text-align: right;\">\n",
       "      <th></th>\n",
       "      <th>id</th>\n",
       "      <th>name</th>\n",
       "      <th>geometry</th>\n",
       "    </tr>\n",
       "  </thead>\n",
       "  <tbody>\n",
       "    <tr>\n",
       "      <th>0</th>\n",
       "      <td>1</td>\n",
       "      <td>Mandir Marg, Delhi - DPCC</td>\n",
       "      <td>POINT (77.20106 28.63643)</td>\n",
       "    </tr>\n",
       "    <tr>\n",
       "      <th>1</th>\n",
       "      <td>2</td>\n",
       "      <td>Chandni Chowk, Delhi - IITM</td>\n",
       "      <td>POINT (77.22723 28.65676)</td>\n",
       "    </tr>\n",
       "    <tr>\n",
       "      <th>2</th>\n",
       "      <td>3</td>\n",
       "      <td>Loni, Ghaziabad - UPPCB</td>\n",
       "      <td>POINT (77.27879 28.75729)</td>\n",
       "    </tr>\n",
       "  </tbody>\n",
       "</table>\n",
       "</div>"
      ],
      "text/plain": [
       "   id                         name                   geometry\n",
       "0   1    Mandir Marg, Delhi - DPCC  POINT (77.20106 28.63643)\n",
       "1   2  Chandni Chowk, Delhi - IITM  POINT (77.22723 28.65676)\n",
       "2   3      Loni, Ghaziabad - UPPCB  POINT (77.27879 28.75729)"
      ]
     },
     "execution_count": 3,
     "metadata": {},
     "output_type": "execute_result"
    }
   ],
   "source": [
    "# Air quality sensor location\n",
    "\n",
    "import geopandas as gpd\n",
    "gdf = gpd.read_file(WORKDIR+'/datasets/aq_stations.geojson')\n",
    "gdf.head()"
   ]
  },
  {
   "cell_type": "code",
   "execution_count": 4,
   "id": "671466d3",
   "metadata": {},
   "outputs": [
    {
     "name": "stderr",
     "output_type": "stream",
     "text": [
      "C:\\Users\\Robocop\\AppData\\Local\\Temp\\ipykernel_16340\\2101946006.py:3: UserWarning: Geometry is in a geographic CRS. Results from 'buffer' are likely incorrect. Use 'GeoSeries.to_crs()' to re-project geometries to a projected CRS before this operation.\n",
      "\n",
      "  gdf['geometry'] = gdf['geometry'].buffer(0.02)\n"
     ]
    },
    {
     "data": {
      "text/plain": [
       "<AxesSubplot:>"
      ]
     },
     "execution_count": 4,
     "metadata": {},
     "output_type": "execute_result"
    },
    {
     "data": {
      "image/png": "[encoded data removed]",
      "text/plain": [
       "<Figure size 432x288 with 1 Axes>"
      ]
     },
     "metadata": {
      "needs_background": "light"
     },
     "output_type": "display_data"
    }
   ],
   "source": [
    "# Region of interest\n",
    "gdf['geometry'] = gdf['geometry']\n",
    "gdf['geometry'] = gdf['geometry'].buffer(0.02)\n",
    "\n",
    "gdf.plot()"
   ]
  },
  {
   "cell_type": "code",
   "execution_count": 8,
   "id": "6cdbb8b6",
   "metadata": {},
   "outputs": [],
   "source": [
    "# Fetching Highways and Railways Data\n",
    "\n",
    "hr_gpd = gpd.read_file(WORKDIR+'/datasets/highways_railways.geojson')"
   ]
  },
  {
   "cell_type": "code",
   "execution_count": 38,
   "id": "c8feca98",
   "metadata": {},
   "outputs": [
    {
     "name": "stdout",
     "output_type": "stream",
     "text": [
      "Loni, Ghaziabad - UPPCB\n",
      "0.0\n"
     ]
    },
    {
     "name": "stderr",
     "output_type": "stream",
     "text": [
      "C:\\Users\\Robocop\\AppData\\Local\\Temp\\ipykernel_16340\\3243578433.py:4: UserWarning: Geometry is in a geographic CRS. Results from 'area' are likely incorrect. Use 'GeoSeries.to_crs()' to re-project geometries to a projected CRS before this operation.\n",
      "\n",
      "  road_density = hr_gpd['geometry'].intersection(a1['geometry']).area\n"
     ]
    }
   ],
   "source": [
    "#Computing Road density\n",
    "a1 = gdf.iloc[2]\n",
    "print(a1['name'])\n",
    "road_density = hr_gpd['geometry'].intersection(a1['geometry']).area\n",
    "print(road_density.sum())\n"
   ]
  },
  {
   "cell_type": "code",
   "execution_count": 41,
   "id": "d87670e9",
   "metadata": {},
   "outputs": [
    {
     "name": "stdout",
     "output_type": "stream",
     "text": [
      "    osm_id osm_way_id                          name          type aeroway  \\\n",
      "0  2090251       None  Central Ridge Reserve Forest  multipolygon    None   \n",
      "1  3859702       None             Kamla Nehru Ridge      boundary    None   \n",
      "\n",
      "  amenity admin_level barrier        boundary building  ... man_made military  \\\n",
      "0    None          10    None  administrative     None  ...     None     None   \n",
      "1    None          10    None  administrative     None  ...     None     None   \n",
      "\n",
      "  natural office place  shop sport tourism  \\\n",
      "0    None   None  None  None  None    None   \n",
      "1    None   None  None  None  None    None   \n",
      "\n",
      "                                          other_tags  \\\n",
      "0  \"alt_name\"=>\"Delhi Ridge\",\"alt_name:ur\"=>\"Ø¯Û...   \n",
      "1                                               None   \n",
      "\n",
      "                                            geometry  \n",
      "0  POLYGON ((77.19789 28.64424, 77.20275 28.64239...  \n",
      "1  POLYGON ((77.21223 28.67971, 77.21261 28.67983...  \n",
      "\n",
      "[2 rows x 26 columns]\n"
     ]
    }
   ],
   "source": [
    "# Loading Forest Layer\n",
    "\n",
    "for_gpd = gpd.read_file(WORKDIR+'/datasets/forests.geojson')\n",
    "for_gpd['geometry'] = for_gpd['geometry'].buffer(0)\n",
    "print(for_gpd)"
   ]
  },
  {
   "cell_type": "code",
   "execution_count": 37,
   "id": "f13ba931",
   "metadata": {},
   "outputs": [
    {
     "name": "stderr",
     "output_type": "stream",
     "text": [
      "TopologyException: Input geom 0 is invalid: Nested shells at 77.165710700000005 28.628235499999999\n"
     ]
    },
    {
     "name": "stdout",
     "output_type": "stream",
     "text": [
      "Mandir Marg, Delhi - DPCC\n"
     ]
    },
    {
     "ename": "TopologicalError",
     "evalue": "The operation 'GEOSIntersection_r' could not be performed. Likely cause is invalidity of the geometry <shapely.geometry.multipolygon.MultiPolygon object at 0x0000021678A6FE20>",
     "output_type": "error",
     "traceback": [
      "\u001b[1;31m---------------------------------------------------------------------------\u001b[0m",
      "\u001b[1;31mTopologicalError\u001b[0m                          Traceback (most recent call last)",
      "Input \u001b[1;32mIn [37]\u001b[0m, in \u001b[0;36m<cell line: 4>\u001b[1;34m()\u001b[0m\n\u001b[0;32m      2\u001b[0m a1 \u001b[38;5;241m=\u001b[39m gdf\u001b[38;5;241m.\u001b[39miloc[\u001b[38;5;241m0\u001b[39m]\n\u001b[0;32m      3\u001b[0m \u001b[38;5;28mprint\u001b[39m(a1[\u001b[38;5;124m'\u001b[39m\u001b[38;5;124mname\u001b[39m\u001b[38;5;124m'\u001b[39m])\n\u001b[1;32m----> 4\u001b[0m forest_density \u001b[38;5;241m=\u001b[39m \u001b[43mfor_gpd\u001b[49m\u001b[43m[\u001b[49m\u001b[38;5;124;43m'\u001b[39;49m\u001b[38;5;124;43mgeometry\u001b[39;49m\u001b[38;5;124;43m'\u001b[39;49m\u001b[43m]\u001b[49m\u001b[38;5;241;43m.\u001b[39;49m\u001b[43mintersection\u001b[49m\u001b[43m(\u001b[49m\u001b[43ma1\u001b[49m\u001b[43m[\u001b[49m\u001b[38;5;124;43m'\u001b[39;49m\u001b[38;5;124;43mgeometry\u001b[39;49m\u001b[38;5;124;43m'\u001b[39;49m\u001b[43m]\u001b[49m\u001b[43m)\u001b[49m\u001b[38;5;241m.\u001b[39mlength\n\u001b[0;32m      5\u001b[0m \u001b[38;5;28mprint\u001b[39m(forest_density\u001b[38;5;241m.\u001b[39msum())\n",
      "File \u001b[1;32m~\\PycharmProjects\\bsa-assignment-saptarshi\\venv\\lib\\site-packages\\geopandas\\base.py:2537\u001b[0m, in \u001b[0;36mGeoPandasBase.intersection\u001b[1;34m(self, other, align)\u001b[0m\n\u001b[0;32m   2426\u001b[0m \u001b[38;5;28;01mdef\u001b[39;00m \u001b[38;5;21mintersection\u001b[39m(\u001b[38;5;28mself\u001b[39m, other, align\u001b[38;5;241m=\u001b[39m\u001b[38;5;28;01mTrue\u001b[39;00m):\n\u001b[0;32m   2427\u001b[0m     \u001b[38;5;124;03m\"\"\"Returns a ``GeoSeries`` of the intersection of points in each\u001b[39;00m\n\u001b[0;32m   2428\u001b[0m \u001b[38;5;124;03m    aligned geometry with `other`.\u001b[39;00m\n\u001b[0;32m   2429\u001b[0m \n\u001b[1;32m   (...)\u001b[0m\n\u001b[0;32m   2535\u001b[0m \u001b[38;5;124;03m    GeoSeries.union\u001b[39;00m\n\u001b[0;32m   2536\u001b[0m \u001b[38;5;124;03m    \"\"\"\u001b[39;00m\n\u001b[1;32m-> 2537\u001b[0m     \u001b[38;5;28;01mreturn\u001b[39;00m \u001b[43m_binary_geo\u001b[49m\u001b[43m(\u001b[49m\u001b[38;5;124;43m\"\u001b[39;49m\u001b[38;5;124;43mintersection\u001b[39;49m\u001b[38;5;124;43m\"\u001b[39;49m\u001b[43m,\u001b[49m\u001b[43m \u001b[49m\u001b[38;5;28;43mself\u001b[39;49m\u001b[43m,\u001b[49m\u001b[43m \u001b[49m\u001b[43mother\u001b[49m\u001b[43m,\u001b[49m\u001b[43m \u001b[49m\u001b[43malign\u001b[49m\u001b[43m)\u001b[49m\n",
      "File \u001b[1;32m~\\PycharmProjects\\bsa-assignment-saptarshi\\venv\\lib\\site-packages\\geopandas\\base.py:52\u001b[0m, in \u001b[0;36m_binary_geo\u001b[1;34m(op, this, other, align)\u001b[0m\n\u001b[0;32m     49\u001b[0m \u001b[38;5;124;03m\"\"\"Binary operation on GeoSeries objects that returns a GeoSeries\"\"\"\u001b[39;00m\n\u001b[0;32m     50\u001b[0m \u001b[38;5;28;01mfrom\u001b[39;00m \u001b[38;5;21;01m.\u001b[39;00m\u001b[38;5;21;01mgeoseries\u001b[39;00m \u001b[38;5;28;01mimport\u001b[39;00m GeoSeries\n\u001b[1;32m---> 52\u001b[0m geoms, index \u001b[38;5;241m=\u001b[39m \u001b[43m_delegate_binary_method\u001b[49m\u001b[43m(\u001b[49m\u001b[43mop\u001b[49m\u001b[43m,\u001b[49m\u001b[43m \u001b[49m\u001b[43mthis\u001b[49m\u001b[43m,\u001b[49m\u001b[43m \u001b[49m\u001b[43mother\u001b[49m\u001b[43m,\u001b[49m\u001b[43m \u001b[49m\u001b[43malign\u001b[49m\u001b[43m)\u001b[49m\n\u001b[0;32m     53\u001b[0m \u001b[38;5;28;01mreturn\u001b[39;00m GeoSeries(geoms\u001b[38;5;241m.\u001b[39mdata, index\u001b[38;5;241m=\u001b[39mindex, crs\u001b[38;5;241m=\u001b[39mthis\u001b[38;5;241m.\u001b[39mcrs)\n",
      "File \u001b[1;32m~\\PycharmProjects\\bsa-assignment-saptarshi\\venv\\lib\\site-packages\\geopandas\\base.py:43\u001b[0m, in \u001b[0;36m_delegate_binary_method\u001b[1;34m(op, this, other, align, *args, **kwargs)\u001b[0m\n\u001b[0;32m     40\u001b[0m \u001b[38;5;28;01melse\u001b[39;00m:\n\u001b[0;32m     41\u001b[0m     \u001b[38;5;28;01mraise\u001b[39;00m \u001b[38;5;167;01mTypeError\u001b[39;00m(\u001b[38;5;28mtype\u001b[39m(this), \u001b[38;5;28mtype\u001b[39m(other))\n\u001b[1;32m---> 43\u001b[0m data \u001b[38;5;241m=\u001b[39m \u001b[38;5;28mgetattr\u001b[39m(a_this, op)(other, \u001b[38;5;241m*\u001b[39margs, \u001b[38;5;241m*\u001b[39m\u001b[38;5;241m*\u001b[39mkwargs)\n\u001b[0;32m     44\u001b[0m \u001b[38;5;28;01mreturn\u001b[39;00m data, this\u001b[38;5;241m.\u001b[39mindex\n",
      "File \u001b[1;32m~\\PycharmProjects\\bsa-assignment-saptarshi\\venv\\lib\\site-packages\\geopandas\\array.py:593\u001b[0m, in \u001b[0;36mGeometryArray.intersection\u001b[1;34m(self, other)\u001b[0m\n\u001b[0;32m    591\u001b[0m \u001b[38;5;28;01mdef\u001b[39;00m \u001b[38;5;21mintersection\u001b[39m(\u001b[38;5;28mself\u001b[39m, other):\n\u001b[0;32m    592\u001b[0m     \u001b[38;5;28;01mreturn\u001b[39;00m GeometryArray(\n\u001b[1;32m--> 593\u001b[0m         \u001b[38;5;28;43mself\u001b[39;49m\u001b[38;5;241;43m.\u001b[39;49m\u001b[43m_binary_method\u001b[49m\u001b[43m(\u001b[49m\u001b[38;5;124;43m\"\u001b[39;49m\u001b[38;5;124;43mintersection\u001b[39;49m\u001b[38;5;124;43m\"\u001b[39;49m\u001b[43m,\u001b[49m\u001b[43m \u001b[49m\u001b[38;5;28;43mself\u001b[39;49m\u001b[43m,\u001b[49m\u001b[43m \u001b[49m\u001b[43mother\u001b[49m\u001b[43m)\u001b[49m, crs\u001b[38;5;241m=\u001b[39m\u001b[38;5;28mself\u001b[39m\u001b[38;5;241m.\u001b[39mcrs\n\u001b[0;32m    594\u001b[0m     )\n",
      "File \u001b[1;32m~\\PycharmProjects\\bsa-assignment-saptarshi\\venv\\lib\\site-packages\\geopandas\\array.py:525\u001b[0m, in \u001b[0;36mGeometryArray._binary_method\u001b[1;34m(op, left, right, **kwargs)\u001b[0m\n\u001b[0;32m    522\u001b[0m         _crs_mismatch_warn(left, right, stacklevel\u001b[38;5;241m=\u001b[39m\u001b[38;5;241m7\u001b[39m)\n\u001b[0;32m    523\u001b[0m     right \u001b[38;5;241m=\u001b[39m right\u001b[38;5;241m.\u001b[39mdata\n\u001b[1;32m--> 525\u001b[0m \u001b[38;5;28;01mreturn\u001b[39;00m \u001b[38;5;28mgetattr\u001b[39m(vectorized, op)(left\u001b[38;5;241m.\u001b[39mdata, right, \u001b[38;5;241m*\u001b[39m\u001b[38;5;241m*\u001b[39mkwargs)\n",
      "File \u001b[1;32m~\\PycharmProjects\\bsa-assignment-saptarshi\\venv\\lib\\site-packages\\geopandas\\_vectorized.py:742\u001b[0m, in \u001b[0;36mintersection\u001b[1;34m(data, other)\u001b[0m\n\u001b[0;32m    740\u001b[0m     \u001b[38;5;28;01mreturn\u001b[39;00m _binary_method(\u001b[38;5;124m\"\u001b[39m\u001b[38;5;124mintersection\u001b[39m\u001b[38;5;124m\"\u001b[39m, data, other)\n\u001b[0;32m    741\u001b[0m \u001b[38;5;28;01melse\u001b[39;00m:\n\u001b[1;32m--> 742\u001b[0m     \u001b[38;5;28;01mreturn\u001b[39;00m \u001b[43m_binary_geo\u001b[49m\u001b[43m(\u001b[49m\u001b[38;5;124;43m\"\u001b[39;49m\u001b[38;5;124;43mintersection\u001b[39;49m\u001b[38;5;124;43m\"\u001b[39;49m\u001b[43m,\u001b[49m\u001b[43m \u001b[49m\u001b[43mdata\u001b[49m\u001b[43m,\u001b[49m\u001b[43m \u001b[49m\u001b[43mother\u001b[49m\u001b[43m)\u001b[49m\n",
      "File \u001b[1;32m~\\PycharmProjects\\bsa-assignment-saptarshi\\venv\\lib\\site-packages\\geopandas\\_vectorized.py:291\u001b[0m, in \u001b[0;36m_binary_geo\u001b[1;34m(op, left, right)\u001b[0m\n\u001b[0;32m    289\u001b[0m     data \u001b[38;5;241m=\u001b[39m np\u001b[38;5;241m.\u001b[39mempty(\u001b[38;5;28mlen\u001b[39m(left), dtype\u001b[38;5;241m=\u001b[39m\u001b[38;5;28mobject\u001b[39m)\n\u001b[0;32m    290\u001b[0m     \u001b[38;5;28;01mwith\u001b[39;00m compat\u001b[38;5;241m.\u001b[39mignore_shapely2_warnings():\n\u001b[1;32m--> 291\u001b[0m         data[:] \u001b[38;5;241m=\u001b[39m [\n\u001b[0;32m    292\u001b[0m             \u001b[38;5;28mgetattr\u001b[39m(s, op)(right) \u001b[38;5;28;01mif\u001b[39;00m s \u001b[38;5;129;01mis\u001b[39;00m \u001b[38;5;129;01mnot\u001b[39;00m \u001b[38;5;28;01mNone\u001b[39;00m \u001b[38;5;129;01mand\u001b[39;00m right \u001b[38;5;129;01mis\u001b[39;00m \u001b[38;5;129;01mnot\u001b[39;00m \u001b[38;5;28;01mNone\u001b[39;00m \u001b[38;5;28;01melse\u001b[39;00m \u001b[38;5;28;01mNone\u001b[39;00m\n\u001b[0;32m    293\u001b[0m             \u001b[38;5;28;01mfor\u001b[39;00m s \u001b[38;5;129;01min\u001b[39;00m left\n\u001b[0;32m    294\u001b[0m         ]\n\u001b[0;32m    295\u001b[0m     \u001b[38;5;28;01mreturn\u001b[39;00m data\n\u001b[0;32m    296\u001b[0m \u001b[38;5;28;01melif\u001b[39;00m \u001b[38;5;28misinstance\u001b[39m(right, np\u001b[38;5;241m.\u001b[39mndarray):\n",
      "File \u001b[1;32m~\\PycharmProjects\\bsa-assignment-saptarshi\\venv\\lib\\site-packages\\geopandas\\_vectorized.py:292\u001b[0m, in \u001b[0;36m<listcomp>\u001b[1;34m(.0)\u001b[0m\n\u001b[0;32m    289\u001b[0m     data \u001b[38;5;241m=\u001b[39m np\u001b[38;5;241m.\u001b[39mempty(\u001b[38;5;28mlen\u001b[39m(left), dtype\u001b[38;5;241m=\u001b[39m\u001b[38;5;28mobject\u001b[39m)\n\u001b[0;32m    290\u001b[0m     \u001b[38;5;28;01mwith\u001b[39;00m compat\u001b[38;5;241m.\u001b[39mignore_shapely2_warnings():\n\u001b[0;32m    291\u001b[0m         data[:] \u001b[38;5;241m=\u001b[39m [\n\u001b[1;32m--> 292\u001b[0m             \u001b[38;5;28;43mgetattr\u001b[39;49m\u001b[43m(\u001b[49m\u001b[43ms\u001b[49m\u001b[43m,\u001b[49m\u001b[43m \u001b[49m\u001b[43mop\u001b[49m\u001b[43m)\u001b[49m\u001b[43m(\u001b[49m\u001b[43mright\u001b[49m\u001b[43m)\u001b[49m \u001b[38;5;28;01mif\u001b[39;00m s \u001b[38;5;129;01mis\u001b[39;00m \u001b[38;5;129;01mnot\u001b[39;00m \u001b[38;5;28;01mNone\u001b[39;00m \u001b[38;5;129;01mand\u001b[39;00m right \u001b[38;5;129;01mis\u001b[39;00m \u001b[38;5;129;01mnot\u001b[39;00m \u001b[38;5;28;01mNone\u001b[39;00m \u001b[38;5;28;01melse\u001b[39;00m \u001b[38;5;28;01mNone\u001b[39;00m\n\u001b[0;32m    293\u001b[0m             \u001b[38;5;28;01mfor\u001b[39;00m s \u001b[38;5;129;01min\u001b[39;00m left\n\u001b[0;32m    294\u001b[0m         ]\n\u001b[0;32m    295\u001b[0m     \u001b[38;5;28;01mreturn\u001b[39;00m data\n\u001b[0;32m    296\u001b[0m \u001b[38;5;28;01melif\u001b[39;00m \u001b[38;5;28misinstance\u001b[39m(right, np\u001b[38;5;241m.\u001b[39mndarray):\n",
      "File \u001b[1;32m~\\PycharmProjects\\bsa-assignment-saptarshi\\venv\\lib\\site-packages\\shapely\\geometry\\base.py:689\u001b[0m, in \u001b[0;36mBaseGeometry.intersection\u001b[1;34m(self, other)\u001b[0m\n\u001b[0;32m    687\u001b[0m \u001b[38;5;28;01mdef\u001b[39;00m \u001b[38;5;21mintersection\u001b[39m(\u001b[38;5;28mself\u001b[39m, other):\n\u001b[0;32m    688\u001b[0m     \u001b[38;5;124;03m\"\"\"Returns the intersection of the geometries\"\"\"\u001b[39;00m\n\u001b[1;32m--> 689\u001b[0m     \u001b[38;5;28;01mreturn\u001b[39;00m geom_factory(\u001b[38;5;28;43mself\u001b[39;49m\u001b[38;5;241;43m.\u001b[39;49m\u001b[43mimpl\u001b[49m\u001b[43m[\u001b[49m\u001b[38;5;124;43m'\u001b[39;49m\u001b[38;5;124;43mintersection\u001b[39;49m\u001b[38;5;124;43m'\u001b[39;49m\u001b[43m]\u001b[49m\u001b[43m(\u001b[49m\u001b[38;5;28;43mself\u001b[39;49m\u001b[43m,\u001b[49m\u001b[43m \u001b[49m\u001b[43mother\u001b[49m\u001b[43m)\u001b[49m)\n",
      "File \u001b[1;32m~\\PycharmProjects\\bsa-assignment-saptarshi\\venv\\lib\\site-packages\\shapely\\topology.py:72\u001b[0m, in \u001b[0;36mBinaryTopologicalOp.__call__\u001b[1;34m(self, this, other, *args)\u001b[0m\n\u001b[0;32m     69\u001b[0m \u001b[38;5;28;01mif\u001b[39;00m product \u001b[38;5;129;01mis\u001b[39;00m \u001b[38;5;28;01mNone\u001b[39;00m:\n\u001b[0;32m     70\u001b[0m     err \u001b[38;5;241m=\u001b[39m TopologicalError(\n\u001b[0;32m     71\u001b[0m             \u001b[38;5;124m\"\u001b[39m\u001b[38;5;124mThis operation could not be performed. Reason: unknown\u001b[39m\u001b[38;5;124m\"\u001b[39m)\n\u001b[1;32m---> 72\u001b[0m     \u001b[38;5;28;43mself\u001b[39;49m\u001b[38;5;241;43m.\u001b[39;49m\u001b[43m_check_topology\u001b[49m\u001b[43m(\u001b[49m\u001b[43merr\u001b[49m\u001b[43m,\u001b[49m\u001b[43m \u001b[49m\u001b[43mthis\u001b[49m\u001b[43m,\u001b[49m\u001b[43m \u001b[49m\u001b[43mother\u001b[49m\u001b[43m)\u001b[49m\n\u001b[0;32m     73\u001b[0m \u001b[38;5;28;01mreturn\u001b[39;00m product\n",
      "File \u001b[1;32m~\\PycharmProjects\\bsa-assignment-saptarshi\\venv\\lib\\site-packages\\shapely\\topology.py:37\u001b[0m, in \u001b[0;36mDelegating._check_topology\u001b[1;34m(self, err, *geoms)\u001b[0m\n\u001b[0;32m     35\u001b[0m \u001b[38;5;28;01mfor\u001b[39;00m geom \u001b[38;5;129;01min\u001b[39;00m geoms:\n\u001b[0;32m     36\u001b[0m     \u001b[38;5;28;01mif\u001b[39;00m \u001b[38;5;129;01mnot\u001b[39;00m geom\u001b[38;5;241m.\u001b[39mis_valid:\n\u001b[1;32m---> 37\u001b[0m         \u001b[38;5;28;01mraise\u001b[39;00m TopologicalError(\n\u001b[0;32m     38\u001b[0m             \u001b[38;5;124m\"\u001b[39m\u001b[38;5;124mThe operation \u001b[39m\u001b[38;5;124m'\u001b[39m\u001b[38;5;132;01m%s\u001b[39;00m\u001b[38;5;124m'\u001b[39m\u001b[38;5;124m could not be performed. \u001b[39m\u001b[38;5;124m\"\u001b[39m\n\u001b[0;32m     39\u001b[0m             \u001b[38;5;124m\"\u001b[39m\u001b[38;5;124mLikely cause is invalidity of the geometry \u001b[39m\u001b[38;5;132;01m%s\u001b[39;00m\u001b[38;5;124m\"\u001b[39m \u001b[38;5;241m%\u001b[39m (\n\u001b[0;32m     40\u001b[0m                 \u001b[38;5;28mself\u001b[39m\u001b[38;5;241m.\u001b[39mfn\u001b[38;5;241m.\u001b[39m\u001b[38;5;18m__name__\u001b[39m, \u001b[38;5;28mrepr\u001b[39m(geom)))\n\u001b[0;32m     41\u001b[0m \u001b[38;5;28;01mraise\u001b[39;00m err\n",
      "\u001b[1;31mTopologicalError\u001b[0m: The operation 'GEOSIntersection_r' could not be performed. Likely cause is invalidity of the geometry <shapely.geometry.multipolygon.MultiPolygon object at 0x0000021678A6FE20>"
     ]
    }
   ],
   "source": [
    "#Computing Forest density\n",
    "a1 = gdf.iloc[0]\n",
    "print(a1['name'])\n",
    "forest_density = for_gpd['geometry'].intersection(a1['geometry']).length\n",
    "print(forest_density.sum())"
   ]
  },
  {
   "cell_type": "code",
   "execution_count": null,
   "id": "8fb1d116",
   "metadata": {},
   "outputs": [],
   "source": []
  }
 ],
 "metadata": {
  "kernelspec": {
   "display_name": "Python 3 (ipykernel)",
   "language": "python",
   "name": "python3"
  },
  "language_info": {
   "codemirror_mode": {
    "name": "ipython",
    "version": 3
   },
   "file_extension": ".py",
   "mimetype": "text/x-python",
   "name": "python",
   "nbconvert_exporter": "python",
   "pygments_lexer": "ipython3",
   "version": "3.9.1"
  }
 },
 "nbformat": 4,
 "nbformat_minor": 5
}
