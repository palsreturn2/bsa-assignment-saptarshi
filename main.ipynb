{
 "cells": [
  {
   "cell_type": "code",
   "execution_count": 1,
   "id": "71490f3d",
   "metadata": {},
   "outputs": [],
   "source": [
    "import os\n",
    "import warnings\n",
    "warnings.filterwarnings('ignore')\n",
    "WORKDIR = os.getcwd()"
   ]
  },
  {
   "cell_type": "code",
   "execution_count": 2,
   "id": "5ef0a4ba",
   "metadata": {
    "scrolled": true
   },
   "outputs": [
    {
     "name": "stdout",
     "output_type": "stream",
     "text": [
      "                                                    datetime    aqi\n",
      "name                                                               \n",
      "Chandni Chowk, Delhi - IITM   Thursday, 01 Apr 2021 03:00 PM  222.0\n",
      "Chandni Chowk, Delhi - IITM     Friday, 02 Apr 2021 03:00 PM  228.0\n",
      "Chandni Chowk, Delhi - IITM    Tuesday, 06 Apr 2021 03:00 PM  321.0\n",
      "Chandni Chowk, Delhi - IITM  Wednesday, 07 Apr 2021 03:00 PM  314.0\n",
      "Chandni Chowk, Delhi - IITM     Friday, 09 Apr 2021 03:00 PM  197.0\n",
      "Chandni Chowk, Delhi - IITM   Saturday, 10 Apr 2021 03:00 PM  216.0\n",
      "Chandni Chowk, Delhi - IITM     Sunday, 11 Apr 2021 03:00 PM  234.0\n",
      "Chandni Chowk, Delhi - IITM     Monday, 12 Apr 2021 03:00 PM  268.0\n",
      "Chandni Chowk, Delhi - IITM     Monday, 19 Apr 2021 03:00 PM   90.0\n",
      "Chandni Chowk, Delhi - IITM     Friday, 23 Apr 2021 03:00 PM  248.0\n",
      "Chandni Chowk, Delhi - IITM   Saturday, 24 Apr 2021 03:00 PM  203.0\n",
      "Chandni Chowk, Delhi - IITM     Sunday, 25 Apr 2021 03:00 PM  167.0\n",
      "Chandni Chowk, Delhi - IITM     Monday, 26 Apr 2021 03:00 PM  147.0\n",
      "Chandni Chowk, Delhi - IITM    Tuesday, 27 Apr 2021 03:00 PM  177.0\n",
      "Mandir Marg, Delhi - DPCC     Saturday, 03 Apr 2021 03:00 PM  100.0\n",
      "Mandir Marg, Delhi - DPCC      Tuesday, 06 Apr 2021 03:00 PM  235.0\n",
      "Mandir Marg, Delhi - DPCC       Friday, 09 Apr 2021 03:00 PM  107.0\n",
      "Mandir Marg, Delhi - DPCC     Saturday, 10 Apr 2021 03:00 PM  109.0\n",
      "Mandir Marg, Delhi - DPCC       Sunday, 11 Apr 2021 03:00 PM  128.0\n",
      "Mandir Marg, Delhi - DPCC       Monday, 12 Apr 2021 03:00 PM  184.0\n",
      "Mandir Marg, Delhi - DPCC      Tuesday, 13 Apr 2021 03:00 PM  163.0\n",
      "Mandir Marg, Delhi - DPCC    Wednesday, 14 Apr 2021 03:00 PM  141.0\n",
      "Mandir Marg, Delhi - DPCC     Thursday, 15 Apr 2021 03:00 PM  158.0\n",
      "Mandir Marg, Delhi - DPCC       Sunday, 18 Apr 2021 03:00 PM  141.0\n",
      "Mandir Marg, Delhi - DPCC       Monday, 19 Apr 2021 03:00 PM  171.0\n",
      "Mandir Marg, Delhi - DPCC      Tuesday, 20 Apr 2021 03:00 PM  167.0\n",
      "Mandir Marg, Delhi - DPCC    Wednesday, 21 Apr 2021 03:00 PM  116.0\n",
      "Mandir Marg, Delhi - DPCC     Thursday, 22 Apr 2021 03:00 PM   94.0\n",
      "Mandir Marg, Delhi - DPCC     Saturday, 24 Apr 2021 03:00 PM   84.0\n",
      "Mandir Marg, Delhi - DPCC       Sunday, 25 Apr 2021 03:00 PM  153.0\n",
      "Mandir Marg, Delhi - DPCC       Monday, 26 Apr 2021 03:00 PM  230.0\n",
      "Mandir Marg, Delhi - DPCC      Tuesday, 27 Apr 2021 03:00 PM  263.0\n",
      "Mandir Marg, Delhi - DPCC    Wednesday, 28 Apr 2021 03:00 PM  302.0\n",
      "Mandir Marg, Delhi - DPCC       Friday, 30 Apr 2021 03:00 PM  251.0\n",
      "Loni, Ghaziabad - UPPCB                                  NaN    NaN\n"
     ]
    }
   ],
   "source": [
    "# Reading air quality sensor data obtained from CPCB platform.\n",
    "\n",
    "import pandas as pd\n",
    "\n",
    "# Locations where CPCB air quality sensors are present and are collecting ground truth data\n",
    "\n",
    "locations = [\n",
    "    'Mandir Marg, Delhi - DPCC',\n",
    "    'Chandni Chowk, Delhi - IITM',    \n",
    "    'Loni, Ghaziabad - UPPCB'\n",
    "]\n",
    "\n",
    "aq_sensor_data = pd.read_excel(WORKDIR+'/datasets/aqi_sensor_data.xlsx', index_col=0)  \n",
    "print(aq_sensor_data)\n"
   ]
  },
  {
   "cell_type": "code",
   "execution_count": 3,
   "id": "11241e95",
   "metadata": {},
   "outputs": [],
   "source": [
    "# Observations from the data\n",
    "\n",
    "# Delhi lockdown dates in 2021 from April 19 onwards\n",
    "# https://www.thehindu.com/news/cities/Delhi/delhi-lockdown-extended-till-may-31/article34625962.ece\n",
    "\n",
    "# The above collected data is for the month of April 2021 for three stations.\n",
    "\n",
    "# In Chandni Chowk we observe a sharp decrease in the AQI from 19th April 2021.\n",
    "# In Mandir Marg, we observe a sharp decrease in 22nd April and then it rises back again.\n",
    "# In Mandir Marg, we observe higher AQI levels in the lockdown period."
   ]
  },
  {
   "cell_type": "code",
   "execution_count": 4,
   "id": "16cfc529",
   "metadata": {},
   "outputs": [
    {
     "data": {
      "text/html": [
       "<div>\n",
       "<style scoped>\n",
       "    .dataframe tbody tr th:only-of-type {\n",
       "        vertical-align: middle;\n",
       "    }\n",
       "\n",
       "    .dataframe tbody tr th {\n",
       "        vertical-align: top;\n",
       "    }\n",
       "\n",
       "    .dataframe thead th {\n",
       "        text-align: right;\n",
       "    }\n",
       "</style>\n",
       "<table border=\"1\" class=\"dataframe\">\n",
       "  <thead>\n",
       "    <tr style=\"text-align: right;\">\n",
       "      <th></th>\n",
       "      <th>id</th>\n",
       "      <th>name</th>\n",
       "      <th>geometry</th>\n",
       "    </tr>\n",
       "  </thead>\n",
       "  <tbody>\n",
       "    <tr>\n",
       "      <th>0</th>\n",
       "      <td>1</td>\n",
       "      <td>Mandir Marg, Delhi - DPCC</td>\n",
       "      <td>POINT (77.20106 28.63643)</td>\n",
       "    </tr>\n",
       "    <tr>\n",
       "      <th>1</th>\n",
       "      <td>2</td>\n",
       "      <td>Chandni Chowk, Delhi - IITM</td>\n",
       "      <td>POINT (77.22723 28.65676)</td>\n",
       "    </tr>\n",
       "    <tr>\n",
       "      <th>2</th>\n",
       "      <td>3</td>\n",
       "      <td>Loni, Ghaziabad - UPPCB</td>\n",
       "      <td>POINT (77.27879 28.75729)</td>\n",
       "    </tr>\n",
       "  </tbody>\n",
       "</table>\n",
       "</div>"
      ],
      "text/plain": [
       "   id                         name                   geometry\n",
       "0   1    Mandir Marg, Delhi - DPCC  POINT (77.20106 28.63643)\n",
       "1   2  Chandni Chowk, Delhi - IITM  POINT (77.22723 28.65676)\n",
       "2   3      Loni, Ghaziabad - UPPCB  POINT (77.27879 28.75729)"
      ]
     },
     "execution_count": 4,
     "metadata": {},
     "output_type": "execute_result"
    }
   ],
   "source": [
    "# Air quality sensor locations of the three ground stations\n",
    "\n",
    "import geopandas as gpd\n",
    "gdf = gpd.read_file(WORKDIR+'/datasets/aq_stations.geojson')\n",
    "gdf.head()"
   ]
  },
  {
   "cell_type": "code",
   "execution_count": 5,
   "id": "671466d3",
   "metadata": {},
   "outputs": [
    {
     "data": {
      "text/plain": [
       "<AxesSubplot:>"
      ]
     },
     "execution_count": 5,
     "metadata": {},
     "output_type": "execute_result"
    },
    {
     "data": {
      "image/png": "[encoded data removed]",
      "text/plain": [
       "<Figure size 432x288 with 1 Axes>"
      ]
     },
     "metadata": {
      "needs_background": "light"
     },
     "output_type": "display_data"
    }
   ],
   "source": [
    "# Region of interest: Buffer of 0.02 degrees is taken around the ground sensors.\n",
    "# Assumption: Near things affect more than distant things.\n",
    "\n",
    "gdf['geometry'] = gdf['geometry']\n",
    "gdf['geometry'] = gdf['geometry'].buffer(0.02)\n",
    "\n",
    "gdf.plot()"
   ]
  },
  {
   "cell_type": "code",
   "execution_count": 6,
   "id": "6cdbb8b6",
   "metadata": {},
   "outputs": [],
   "source": [
    "# Mobility can be one of the factors for increase in the AQI levels.\n",
    "# So one of the parameters can be density of railways and roadways.\n",
    "# Fetching Highways and Railways Data\n",
    "\n",
    "hr_gpd = gpd.read_file(WORKDIR+'/datasets/highways_railways.geojson')"
   ]
  },
  {
   "cell_type": "code",
   "execution_count": 7,
   "id": "c8feca98",
   "metadata": {},
   "outputs": [
    {
     "name": "stdout",
     "output_type": "stream",
     "text": [
      "Road Density Values\n",
      "Mandir Marg, Delhi - DPCC=2.483152797382156\n",
      "Road Density Values\n",
      "Chandni Chowk, Delhi - IITM=2.266370100077988\n",
      "Road Density Values\n",
      "Loni, Ghaziabad - UPPCB=0.07730455236204287\n"
     ]
    }
   ],
   "source": [
    "#Computing highway and railway line density\n",
    "for i in range(0, len(locations)):\n",
    "    a1 = gdf.iloc[i]    \n",
    "    road_density = hr_gpd['geometry'].intersection(a1['geometry']).length\n",
    "    print('Road Density Values')\n",
    "    print(a1['name']+'='+str(road_density.sum()))\n"
   ]
  },
  {
   "cell_type": "code",
   "execution_count": 8,
   "id": "b453f917",
   "metadata": {},
   "outputs": [],
   "source": [
    "# Observations from the Road Density Values\n",
    "\n",
    "# Mandir Marg has the maximum highway and railway density in the region.\n",
    "# Loni, Ghaziabad has the least highway and railway density in the region."
   ]
  },
  {
   "cell_type": "code",
   "execution_count": 9,
   "id": "d87670e9",
   "metadata": {},
   "outputs": [],
   "source": [
    "# Forest cover is another important indicator for AQI levels.\n",
    "# Loading Forest Layer\n",
    "\n",
    "for_gpd = gpd.read_file(WORKDIR+'/datasets/forests.geojson')\n",
    "for_gpd['geometry'] = for_gpd['geometry'].buffer(0)"
   ]
  },
  {
   "cell_type": "code",
   "execution_count": 10,
   "id": "f13ba931",
   "metadata": {},
   "outputs": [
    {
     "name": "stdout",
     "output_type": "stream",
     "text": [
      "Forest density\n",
      "Mandir Marg, Delhi - DPCC=0.00024191357230874682\n",
      "Forest density\n",
      "Chandni Chowk, Delhi - IITM=3.0886444917354208e-06\n",
      "Forest density\n",
      "Loni, Ghaziabad - UPPCB=0.0\n"
     ]
    }
   ],
   "source": [
    "#Computing Forest density\n",
    "for i in range(0, len(locations)):\n",
    "    a1 = gdf.iloc[i]\n",
    "    forest_density = for_gpd['geometry'].intersection(a1['geometry']).area\n",
    "    print('Forest density')\n",
    "    print(a1['name']+'='+str(forest_density.sum()))"
   ]
  },
  {
   "cell_type": "code",
   "execution_count": 11,
   "id": "429c1d0b",
   "metadata": {},
   "outputs": [],
   "source": [
    "# Observations from the Forest Density Analysis\n",
    "\n",
    "# Mandir Marg has the highest forest density cover.\n",
    "# Loni Ghaziabad has the least forest density cover."
   ]
  },
  {
   "cell_type": "code",
   "execution_count": 12,
   "id": "8fb1d116",
   "metadata": {},
   "outputs": [],
   "source": [
    "# Industries are another important indicator for the AQI levels.\n",
    "# Density of industries is another parameter for the analysis.\n",
    "# Loading Industries Layer\n",
    "\n",
    "ind_gpd = gpd.read_file(WORKDIR+'/datasets/industrial.geojson')\n",
    "ind_gpd['geometry'] = ind_gpd['geometry'].buffer(0)"
   ]
  },
  {
   "cell_type": "code",
   "execution_count": 13,
   "id": "84e852d4",
   "metadata": {},
   "outputs": [
    {
     "name": "stdout",
     "output_type": "stream",
     "text": [
      "Industry density\n",
      "Mandir Marg, Delhi - DPCC=2.64257285501008e-06\n",
      "Industry density\n",
      "Chandni Chowk, Delhi - IITM=0.0\n",
      "Industry density\n",
      "Loni, Ghaziabad - UPPCB=0.0\n"
     ]
    }
   ],
   "source": [
    "#Computing Industrial density\n",
    "for i in range(0, len(locations)):\n",
    "    a1 = gdf.iloc[i]\n",
    "    print('Industry density')\n",
    "    ind_density = ind_gpd['geometry'].intersection(a1['geometry']).area\n",
    "    print(a1['name']+'='+str(ind_density.sum()))"
   ]
  },
  {
   "cell_type": "code",
   "execution_count": 14,
   "id": "a6665054",
   "metadata": {},
   "outputs": [],
   "source": [
    "# Observations from the industries layer\n",
    "\n",
    "# Mandir marg has highest density of industries among the other two regions."
   ]
  },
  {
   "cell_type": "code",
   "execution_count": null,
   "id": "4f5fbe69",
   "metadata": {},
   "outputs": [],
   "source": []
  }
 ],
 "metadata": {
  "kernelspec": {
   "display_name": "Python 3 (ipykernel)",
   "language": "python",
   "name": "python3"
  },
  "language_info": {
   "codemirror_mode": {
    "name": "ipython",
    "version": 3
   },
   "file_extension": ".py",
   "mimetype": "text/x-python",
   "name": "python",
   "nbconvert_exporter": "python",
   "pygments_lexer": "ipython3",
   "version": "3.9.1"
  }
 },
 "nbformat": 4,
 "nbformat_minor": 5
}
